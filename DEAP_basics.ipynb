{
 "cells": [
  {
   "cell_type": "markdown",
   "metadata": {},
   "source": [
    "<a href=\"https://colab.research.google.com/github/IAT-ComputationalCreativity-Spring2025/Week11-Genetic-Algorithms/blob/main/DEAP_basics.ipynb\" target=\"_parent\"><img src=\"https://colab.research.google.com/assets/colab-badge.svg\" alt=\"Open In Colab\"/></a>"
   ]
  },
  {
   "cell_type": "markdown",
   "metadata": {},
   "source": [
    "# Introduction to DEAP"
   ]
  },
  {
   "cell_type": "markdown",
   "metadata": {},
   "source": [
    "Documentation: [https://deap.readthedocs.io/en/master/]"
   ]
  },
  {
   "cell_type": "markdown",
   "metadata": {},
   "source": [
    "## Imports"
   ]
  },
  {
   "cell_type": "code",
   "execution_count": 1,
   "metadata": {},
   "outputs": [
    {
     "name": "stdout",
     "output_type": "stream",
     "text": [
      "Requirement already satisfied: deap in c:\\users\\griff\\miniconda3\\envs\\iat460\\lib\\site-packages (1.4.2)\n",
      "Requirement already satisfied: numpy in c:\\users\\griff\\miniconda3\\envs\\iat460\\lib\\site-packages (1.26.4)\n",
      "Requirement already satisfied: matplotlib in c:\\users\\griff\\miniconda3\\envs\\iat460\\lib\\site-packages (3.9.4)\n",
      "Requirement already satisfied: contourpy>=1.0.1 in c:\\users\\griff\\miniconda3\\envs\\iat460\\lib\\site-packages (from matplotlib) (1.3.0)\n",
      "Requirement already satisfied: cycler>=0.10 in c:\\users\\griff\\miniconda3\\envs\\iat460\\lib\\site-packages (from matplotlib) (0.12.1)\n",
      "Requirement already satisfied: fonttools>=4.22.0 in c:\\users\\griff\\miniconda3\\envs\\iat460\\lib\\site-packages (from matplotlib) (4.55.3)\n",
      "Requirement already satisfied: kiwisolver>=1.3.1 in c:\\users\\griff\\miniconda3\\envs\\iat460\\lib\\site-packages (from matplotlib) (1.4.7)\n",
      "Requirement already satisfied: packaging>=20.0 in c:\\users\\griff\\miniconda3\\envs\\iat460\\lib\\site-packages (from matplotlib) (24.2)\n",
      "Requirement already satisfied: pillow>=8 in c:\\users\\griff\\miniconda3\\envs\\iat460\\lib\\site-packages (from matplotlib) (11.1.0)\n",
      "Requirement already satisfied: pyparsing>=2.3.1 in c:\\users\\griff\\miniconda3\\envs\\iat460\\lib\\site-packages (from matplotlib) (3.2.1)\n",
      "Requirement already satisfied: python-dateutil>=2.7 in c:\\users\\griff\\miniconda3\\envs\\iat460\\lib\\site-packages (from matplotlib) (2.9.0.post0)\n",
      "Requirement already satisfied: importlib-resources>=3.2.0 in c:\\users\\griff\\miniconda3\\envs\\iat460\\lib\\site-packages (from matplotlib) (6.5.2)\n",
      "Requirement already satisfied: zipp>=3.1.0 in c:\\users\\griff\\miniconda3\\envs\\iat460\\lib\\site-packages (from importlib-resources>=3.2.0->matplotlib) (3.21.0)\n",
      "Requirement already satisfied: six>=1.5 in c:\\users\\griff\\miniconda3\\envs\\iat460\\lib\\site-packages (from python-dateutil>=2.7->matplotlib) (1.17.0)\n"
     ]
    }
   ],
   "source": [
    "# Install required libraries\n",
    "! pip install deap numpy matplotlib\n",
    "\n",
    "# Import necessary libraries\n",
    "import random\n",
    "import numpy as np\n",
    "import matplotlib.pyplot as plt\n",
    "\n",
    "from deap import base, creator, tools, algorithms"
   ]
  },
  {
   "cell_type": "markdown",
   "metadata": {},
   "source": [
    "## DEAP Components\n",
    "\n",
    "DEAP has several key components:\n",
    "1. creator - for creating new classes with specific attributes\n",
    "2. base.Toolbox - for registering operations\n",
    "3. tools - contains built-in operators for genetic algorithms\n",
    "4. algorithms - contains ready-to-use evolutionary algorithms"
   ]
  },
  {
   "cell_type": "markdown",
   "metadata": {},
   "source": [
    "Let's create the following:\n",
    "\n",
    "- FitnessMax: A fitness class that maximizes a single objective (weight=1.0)\n",
    "- Individual: A class that inherits from list and has FitnessMax as its fitness attribute"
   ]
  },
  {
   "cell_type": "code",
   "execution_count": 2,
   "metadata": {},
   "outputs": [],
   "source": [
    "# First, let's define a fitness class that maximizes a single objective\n",
    "creator.create(\"FitnessMax\", base.Fitness, weights=(1.0,))\n",
    "\n",
    "# Then, we define an individual type that inherits from list and has our fitness attribute\n",
    "creator.create(\"Individual\", list, fitness=creator.FitnessMax)\n",
    "\n",
    "# Initialize the toolbox\n",
    "toolbox = base.Toolbox()"
   ]
  },
  {
   "cell_type": "markdown",
   "metadata": {},
   "source": [
    "## Register Operations"
   ]
  },
  {
   "cell_type": "code",
   "execution_count": 3,
   "metadata": {},
   "outputs": [
    {
     "name": "stdout",
     "output_type": "stream",
     "text": [
      "Sample individual: [0, 1, 1, 0, 0, 1, 1, 1, 0, 0]\n",
      "Sample population: [[0, 0, 0, 1, 1, 1, 0, 1, 0, 0], [0, 1, 0, 0, 1, 0, 0, 1, 0, 1], [1, 1, 0, 1, 0, 1, 0, 1, 1, 1]]\n"
     ]
    }
   ],
   "source": [
    "# Register a function to create binary genes (0 or 1)\n",
    "toolbox.register(\"attr_bool\", random.randint, 0, 1)\n",
    "\n",
    "# Register a function to create individuals (lists of genes)\n",
    "# tools.initRepeat repeatedly calls attr_bool to create a list\n",
    "# The third parameter defines the length of the individual (10 genes in this case)\n",
    "toolbox.register(\"individual\", tools.initRepeat, creator.Individual, toolbox.attr_bool, 10)\n",
    "\n",
    "# Register a function to create a population (list of individuals)\n",
    "toolbox.register(\"population\", tools.initRepeat, list, toolbox.individual)\n",
    "\n",
    "# Create and display a sample individual and population\n",
    "sample_individual = toolbox.individual()\n",
    "sample_population = toolbox.population(n=3)\n",
    "\n",
    "print(\"Sample individual:\", sample_individual)\n",
    "print(\"Sample population:\", sample_population)"
   ]
  },
  {
   "cell_type": "markdown",
   "metadata": {},
   "source": [
    "## Evaluation function"
   ]
  },
  {
   "cell_type": "code",
   "execution_count": 4,
   "metadata": {},
   "outputs": [
    {
     "name": "stdout",
     "output_type": "stream",
     "text": [
      "Individual: [1, 0, 1, 1, 0, 0, 1, 1, 1, 0]\n",
      "Fitness: (6,)\n"
     ]
    }
   ],
   "source": [
    "# Define a simple evaluation function that counts the number of 1s in the individual\n",
    "def evalOneMax(individual):\n",
    "    \"\"\"Count the number of 1s in the individual (maximize this)\"\"\"\n",
    "    return sum(individual),  # Note the comma - this creates a tuple\n",
    "\n",
    "# Register the evaluation function in the toolbox\n",
    "toolbox.register(\"evaluate\", evalOneMax)\n",
    "\n",
    "# Test the evaluation function\n",
    "test_individual = creator.Individual([1, 0, 1, 1, 0, 0, 1, 1, 1, 0])\n",
    "fitness = evalOneMax(test_individual)\n",
    "print(f\"Individual: {test_individual}\")\n",
    "print(f\"Fitness: {fitness}\")"
   ]
  },
  {
   "cell_type": "markdown",
   "metadata": {},
   "source": [
    "## Register Genetic Operators"
   ]
  },
  {
   "cell_type": "code",
   "execution_count": 5,
   "metadata": {},
   "outputs": [
    {
     "name": "stdout",
     "output_type": "stream",
     "text": [
      "Before crossover:\n",
      "Individual 1: [1, 1, 0, 0, 1, 1, 0, 0, 1, 1]\n",
      "Individual 2: [0, 0, 1, 1, 0, 0, 1, 1, 0, 0]\n",
      "\n",
      "After crossover:\n",
      "Child 1: [1, 1, 0, 0, 0, 0, 1, 1, 0, 1]\n",
      "Child 2: [0, 0, 1, 1, 1, 1, 0, 0, 1, 0]\n",
      "\n",
      "After mutation:\n",
      "Mutated Child 1: [1, 1, 0, 1, 0, 0, 1, 1, 0, 1]\n"
     ]
    }
   ],
   "source": [
    "# Register genetic operators in the toolbox\n",
    "\n",
    "# Crossover operator - two-point crossover\n",
    "toolbox.register(\"mate\", tools.cxTwoPoint)\n",
    "\n",
    "# Mutation operator - flip bits with a 10% probability for each bit\n",
    "toolbox.register(\"mutate\", tools.mutFlipBit, indpb=0.1)\n",
    "\n",
    "# Selection operator - tournament selection with tournament size 3\n",
    "toolbox.register(\"select\", tools.selTournament, tournsize=3)\n",
    "\n",
    "# Let's test these operators\n",
    "\n",
    "# Create two test individuals\n",
    "ind1 = creator.Individual([1, 1, 0, 0, 1, 1, 0, 0, 1, 1])\n",
    "ind2 = creator.Individual([0, 0, 1, 1, 0, 0, 1, 1, 0, 0])\n",
    "\n",
    "print(\"Before crossover:\")\n",
    "print(f\"Individual 1: {ind1}\")\n",
    "print(f\"Individual 2: {ind2}\")\n",
    "\n",
    "# Apply crossover\n",
    "child1, child2 = toolbox.mate(ind1, ind2)\n",
    "print(\"\\nAfter crossover:\")\n",
    "print(f\"Child 1: {child1}\")\n",
    "print(f\"Child 2: {child2}\")\n",
    "\n",
    "# Apply mutation to child1\n",
    "toolbox.mutate(child1)\n",
    "print(\"\\nAfter mutation:\")\n",
    "print(f\"Mutated Child 1: {child1}\")"
   ]
  },
  {
   "cell_type": "markdown",
   "metadata": {},
   "source": [
    "## Create Initial Population"
   ]
  },
  {
   "cell_type": "code",
   "execution_count": 6,
   "metadata": {},
   "outputs": [
    {
     "name": "stdout",
     "output_type": "stream",
     "text": [
      "Initial population size: 50\n",
      "Min fitness: 2.0\n",
      "Max fitness: 8.0\n",
      "Average fitness: 4.82\n"
     ]
    }
   ],
   "source": [
    "# Create initial population\n",
    "population = toolbox.population(n=50)\n",
    "\n",
    "# Evaluate the entire population\n",
    "fitnesses = list(map(toolbox.evaluate, population))\n",
    "for ind, fit in zip(population, fitnesses):\n",
    "    ind.fitness.values = fit\n",
    "\n",
    "# Get some statistics about the initial population\n",
    "fits = [ind.fitness.values[0] for ind in population]\n",
    "\n",
    "print(f\"Initial population size: {len(population)}\")\n",
    "print(f\"Min fitness: {min(fits)}\")\n",
    "print(f\"Max fitness: {max(fits)}\")\n",
    "print(f\"Average fitness: {sum(fits) / len(fits)}\")"
   ]
  },
  {
   "cell_type": "markdown",
   "metadata": {},
   "source": [
    "## Run the Algorithm with Statistics"
   ]
  },
  {
   "cell_type": "code",
   "execution_count": 7,
   "metadata": {},
   "outputs": [
    {
     "name": "stdout",
     "output_type": "stream",
     "text": [
      "Generation 0: Max = 8.0, Avg = 5.78\n",
      "Generation 5: Max = 10.0, Avg = 8.7\n",
      "Generation 10: Max = 10.0, Avg = 9.8\n",
      "Generation 15: Max = 10.0, Avg = 9.64\n",
      "Generation 20: Max = 10.0, Avg = 9.88\n",
      "Generation 25: Max = 10.0, Avg = 9.7\n",
      "Generation 30: Max = 10.0, Avg = 9.86\n",
      "Generation 35: Max = 10.0, Avg = 9.8\n",
      "\n",
      "Best individual:\n",
      "Genes: [1, 1, 1, 1, 1, 1, 1, 1, 1, 1]\n",
      "Fitness: 10.0\n"
     ]
    }
   ],
   "source": [
    "# Set up statistics to track\n",
    "stats = tools.Statistics(lambda ind: ind.fitness.values)\n",
    "stats.register(\"avg\", np.mean)\n",
    "stats.register(\"min\", min)\n",
    "stats.register(\"max\", max)\n",
    "stats.register(\"std\", np.std)\n",
    "\n",
    "# Parameters\n",
    "N_GENS = 40  # Number of generations\n",
    "P_CROSS = 0.5  # Crossover probability\n",
    "P_MUTATE = 0.2  # Mutation probability\n",
    "\n",
    "# Lists to store statistics\n",
    "gen_numbers = []\n",
    "max_fitness = []\n",
    "avg_fitness = []\n",
    "\n",
    "# Run the algorithm manually so we can track progress\n",
    "for gen in range(N_GENS):\n",
    "    # Select the next generation individuals\n",
    "    offspring = toolbox.select(population, len(population))\n",
    "    \n",
    "    # Clone the selected individuals\n",
    "    offspring = list(map(toolbox.clone, offspring))\n",
    "    \n",
    "    # Apply crossover and mutation\n",
    "    for i in range(1, len(offspring), 2):\n",
    "        if random.random() < P_CROSS:\n",
    "            offspring[i-1], offspring[i] = toolbox.mate(offspring[i-1], offspring[i])\n",
    "            del offspring[i-1].fitness.values\n",
    "            del offspring[i].fitness.values\n",
    "    \n",
    "    for i in range(len(offspring)):\n",
    "        if random.random() < P_MUTATE:\n",
    "            offspring[i], = toolbox.mutate(offspring[i])\n",
    "            del offspring[i].fitness.values\n",
    "    \n",
    "    # Evaluate the individuals with an invalid fitness\n",
    "    invalid_ind = [ind for ind in offspring if not ind.fitness.valid]\n",
    "    fitnesses = map(toolbox.evaluate, invalid_ind)\n",
    "    for ind, fit in zip(invalid_ind, fitnesses):\n",
    "        ind.fitness.values = fit\n",
    "    \n",
    "    # Replace the old population by the offspring\n",
    "    population[:] = offspring\n",
    "    \n",
    "    # Gather statistics\n",
    "    fits = [ind.fitness.values[0] for ind in population]\n",
    "    gen_numbers.append(gen)\n",
    "    max_fitness.append(max(fits))\n",
    "    avg_fitness.append(sum(fits) / len(fits))\n",
    "    \n",
    "    # Print statistics\n",
    "    if gen % 5 == 0:\n",
    "        print(f\"Generation {gen}: Max = {max(fits)}, Avg = {sum(fits)/len(fits)}\")\n",
    "\n",
    "# Print final best solution\n",
    "best_ind = tools.selBest(population, 1)[0]\n",
    "print(\"\\nBest individual:\")\n",
    "print(f\"Genes: {best_ind}\")\n",
    "print(f\"Fitness: {best_ind.fitness.values[0]}\")"
   ]
  },
  {
   "cell_type": "markdown",
   "metadata": {},
   "source": [
    "## Visualize the Evolution Progress"
   ]
  },
  {
   "cell_type": "code",
   "execution_count": 8,
   "metadata": {},
   "outputs": [
    {
     "data": {
      "image/png": "[encoded data removed]",
      "text/plain": [
       "<Figure size 1000x600 with 1 Axes>"
      ]
     },
     "metadata": {},
     "output_type": "display_data"
    }
   ],
   "source": [
    "# Plot the evolution progress\n",
    "plt.figure(figsize=(10, 6))\n",
    "plt.plot(gen_numbers, max_fitness, 'r-', label='Max Fitness')\n",
    "plt.plot(gen_numbers, avg_fitness, 'b-', label='Average Fitness')\n",
    "plt.xlabel('Generation')\n",
    "plt.ylabel('Fitness')\n",
    "plt.title('Evolution Progress')\n",
    "plt.legend()\n",
    "plt.grid(True)\n",
    "plt.show()"
   ]
  },
  {
   "cell_type": "markdown",
   "metadata": {},
   "source": [
    "## Using Built-in Algorithms"
   ]
  },
  {
   "cell_type": "code",
   "execution_count": 9,
   "metadata": {},
   "outputs": [
    {
     "name": "stdout",
     "output_type": "stream",
     "text": [
      "gen\tnevals\tavg \tmin   \tmax   \tstd    \n",
      "0  \t50    \t5.06\t(2.0,)\t(8.0,)\t1.48876\n",
      "1  \t27    \t6.22\t(4.0,)\t(9.0,)\t1.28515\n",
      "2  \t36    \t7.32\t(5.0,)\t(10.0,)\t1.24   \n",
      "3  \t35    \t8.34\t(5.0,)\t(10.0,)\t1.12446\n",
      "4  \t25    \t9.14\t(7.0,)\t(10.0,)\t0.600333\n",
      "5  \t32    \t9.3 \t(7.0,)\t(10.0,)\t0.640312\n",
      "6  \t30    \t9.54\t(7.0,)\t(10.0,)\t0.753923\n",
      "7  \t36    \t9.66\t(6.0,)\t(10.0,)\t0.815107\n",
      "8  \t28    \t9.92\t(8.0,)\t(10.0,)\t0.337046\n",
      "9  \t35    \t9.76\t(8.0,)\t(10.0,)\t0.549909\n",
      "10 \t25    \t9.78\t(7.0,)\t(10.0,)\t0.641561\n",
      "11 \t26    \t9.84\t(8.0,)\t(10.0,)\t0.463033\n",
      "12 \t31    \t9.84\t(8.0,)\t(10.0,)\t0.463033\n",
      "13 \t27    \t9.84\t(8.0,)\t(10.0,)\t0.463033\n",
      "14 \t25    \t9.78\t(8.0,)\t(10.0,)\t0.575847\n",
      "15 \t26    \t9.82\t(8.0,)\t(10.0,)\t0.477074\n",
      "16 \t23    \t9.9 \t(7.0,)\t(10.0,)\t0.458258\n",
      "17 \t32    \t9.78\t(8.0,)\t(10.0,)\t0.501597\n",
      "18 \t27    \t9.82\t(8.0,)\t(10.0,)\t0.517301\n",
      "19 \t36    \t9.84\t(8.0,)\t(10.0,)\t0.417612\n",
      "20 \t37    \t9.66\t(7.0,)\t(10.0,)\t0.79019 \n",
      "21 \t25    \t9.94\t(9.0,)\t(10.0,)\t0.237487\n",
      "22 \t33    \t9.86\t(8.0,)\t(10.0,)\t0.4005  \n",
      "23 \t21    \t9.8 \t(7.0,)\t(10.0,)\t0.6     \n",
      "24 \t31    \t9.96\t(9.0,)\t(10.0,)\t0.195959\n",
      "25 \t37    \t9.92\t(9.0,)\t(10.0,)\t0.271293\n",
      "26 \t23    \t9.8 \t(7.0,)\t(10.0,)\t0.6     \n",
      "27 \t35    \t9.98\t(9.0,)\t(10.0,)\t0.14    \n",
      "28 \t30    \t9.86\t(6.0,)\t(10.0,)\t0.600333\n",
      "29 \t26    \t9.74\t(6.0,)\t(10.0,)\t0.715821\n",
      "30 \t36    \t9.8 \t(8.0,)\t(10.0,)\t0.489898\n",
      "31 \t20    \t9.86\t(8.0,)\t(10.0,)\t0.447661\n",
      "32 \t37    \t9.84\t(8.0,)\t(10.0,)\t0.463033\n",
      "33 \t25    \t9.9 \t(8.0,)\t(10.0,)\t0.360555\n",
      "34 \t29    \t9.78\t(8.0,)\t(10.0,)\t0.575847\n",
      "35 \t34    \t9.84\t(7.0,)\t(10.0,)\t0.542586\n",
      "36 \t30    \t9.76\t(8.0,)\t(10.0,)\t0.549909\n",
      "37 \t32    \t9.74\t(8.0,)\t(10.0,)\t0.52192 \n",
      "38 \t32    \t9.78\t(6.0,)\t(10.0,)\t0.672012\n",
      "39 \t35    \t9.92\t(8.0,)\t(10.0,)\t0.337046\n",
      "40 \t37    \t9.8 \t(8.0,)\t(10.0,)\t0.489898\n"
     ]
    },
    {
     "data": {
      "image/png": "[encoded data removed]",
      "text/plain": [
       "<Figure size 1000x600 with 1 Axes>"
      ]
     },
     "metadata": {},
     "output_type": "display_data"
    },
    {
     "name": "stdout",
     "output_type": "stream",
     "text": [
      "\n",
      "Best individual from eaSimple:\n",
      "Genes: [1, 1, 1, 1, 1, 1, 1, 1, 1, 1]\n",
      "Fitness: 10.0\n"
     ]
    }
   ],
   "source": [
    "# Instead of manually implementing the evolutionary loop,\n",
    "# we can use DEAP's built-in algorithms\n",
    "\n",
    "# Reset the population\n",
    "population = toolbox.population(n=50)\n",
    "\n",
    "# Use eaSimple algorithm with the same parameters\n",
    "result, logbook = algorithms.eaSimple(population, toolbox, \n",
    "                                     cxpb=P_CROSS, mutpb=P_MUTATE, \n",
    "                                     ngen=N_GENS, stats=stats, \n",
    "                                     verbose=True)\n",
    "\n",
    "# Plot statistics from the logbook\n",
    "gen = logbook.select(\"gen\")\n",
    "fit_max = logbook.select(\"max\")\n",
    "fit_avg = logbook.select(\"avg\")\n",
    "\n",
    "plt.figure(figsize=(10, 6))\n",
    "plt.plot(gen, fit_max, 'r-', label='Max Fitness')\n",
    "plt.plot(gen, fit_avg, 'b-', label='Average Fitness')\n",
    "plt.xlabel('Generation')\n",
    "plt.ylabel('Fitness')\n",
    "plt.title('Evolution Progress (using eaSimple)')\n",
    "plt.legend()\n",
    "plt.grid(True)\n",
    "plt.show()\n",
    "\n",
    "# Print final best solution\n",
    "best_ind = tools.selBest(result, 1)[0]\n",
    "print(\"\\nBest individual from eaSimple:\")\n",
    "print(f\"Genes: {best_ind}\")\n",
    "print(f\"Fitness: {best_ind.fitness.values[0]}\")"
   ]
  }
 ],
 "metadata": {
  "kernelspec": {
   "display_name": "iat460",
   "language": "python",
   "name": "python3"
  },
  "language_info": {
   "codemirror_mode": {
    "name": "ipython",
    "version": 3
   },
   "file_extension": ".py",
   "mimetype": "text/x-python",
   "name": "python",
   "nbconvert_exporter": "python",
   "pygments_lexer": "ipython3",
   "version": "3.9.21"
  }
 },
 "nbformat": 4,
 "nbformat_minor": 2
}
