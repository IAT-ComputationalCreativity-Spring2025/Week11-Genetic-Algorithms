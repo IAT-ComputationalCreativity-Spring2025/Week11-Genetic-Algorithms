{
 "cells": [
  {
   "cell_type": "markdown",
   "metadata": {},
   "source": [
    "<a href=\"https://colab.research.google.com/github/IAT-ComputationalCreativity-Spring2025/Week11-Genetic-Algorithms/blob/main/DEAP_basics.ipynb\" target=\"_parent\"><img src=\"https://colab.research.google.com/assets/colab-badge.svg\" alt=\"Open In Colab\"/></a>"
   ]
  },
  {
   "cell_type": "markdown",
   "metadata": {},
   "source": [
    "# Introduction to DEAP"
   ]
  },
  {
   "cell_type": "markdown",
   "metadata": {},
   "source": [
    "Documentation: [https://deap.readthedocs.io/en/master/]"
   ]
  },
  {
   "cell_type": "markdown",
   "metadata": {},
   "source": [
    "## Imports"
   ]
  },
  {
   "cell_type": "code",
   "execution_count": null,
   "metadata": {},
   "outputs": [],
   "source": [
    "# Install required libraries\n",
    "! pip install deap numpy matplotlib\n",
    "\n",
    "# Import necessary libraries\n",
    "import random\n",
    "import numpy as np\n",
    "import matplotlib.pyplot as plt\n",
    "\n",
    "from deap import base, creator, tools, algorithms"
   ]
  },
  {
   "cell_type": "markdown",
   "metadata": {},
   "source": [
    "## DEAP Components\n",
    "\n",
    "DEAP has several key components:\n",
    "1. creator - for creating new classes with specific attributes\n",
    "2. base.Toolbox - for registering operations\n",
    "3. tools - contains built-in operators for genetic algorithms\n",
    "4. algorithms - contains ready-to-use evolutionary algorithms"
   ]
  },
  {
   "cell_type": "markdown",
   "metadata": {},
   "source": [
    "Let's create the following:\n",
    "\n",
    "- FitnessMax: A fitness class that maximizes a single objective (weight=1.0)\n",
    "- Individual: A class that inherits from list and has FitnessMax as its fitness attribute"
   ]
  },
  {
   "cell_type": "code",
   "execution_count": null,
   "metadata": {},
   "outputs": [],
   "source": [
    "# First, let's define a fitness class that maximizes a single objective\n",
    "creator.create(\"FitnessMax\", base.Fitness, weights=(1.0,))\n",
    "\n",
    "# Then, we define an individual type that inherits from list and has our fitness attribute\n",
    "creator.create(\"Individual\", list, fitness=creator.FitnessMax)\n",
    "\n",
    "# Initialize the toolbox\n",
    "toolbox = base.Toolbox()"
   ]
  },
  {
   "cell_type": "markdown",
   "metadata": {},
   "source": [
    "## Register Operations"
   ]
  },
  {
   "cell_type": "code",
   "execution_count": null,
   "metadata": {},
   "outputs": [],
   "source": [
    "# Register a function to create binary genes (0 or 1)\n",
    "toolbox.register(\"attr_bool\", random.randint, 0, 1)\n",
    "\n",
    "# Register a function to create individuals (lists of genes)\n",
    "# tools.initRepeat repeatedly calls attr_bool to create a list\n",
    "# The third parameter defines the length of the individual (10 genes in this case)\n",
    "toolbox.register(\"individual\", tools.initRepeat, creator.Individual, toolbox.attr_bool, 10)\n",
    "\n",
    "# Register a function to create a population (list of individuals)\n",
    "toolbox.register(\"population\", tools.initRepeat, list, toolbox.individual)\n",
    "\n",
    "# Create and display a sample individual and population\n",
    "sample_individual = toolbox.individual()\n",
    "sample_population = toolbox.population(n=3)\n",
    "\n",
    "print(\"Sample individual:\", sample_individual)\n",
    "print(\"Sample population:\", sample_population)"
   ]
  },
  {
   "cell_type": "markdown",
   "metadata": {},
   "source": [
    "## Evaluation function"
   ]
  },
  {
   "cell_type": "code",
   "execution_count": null,
   "metadata": {},
   "outputs": [],
   "source": [
    "# Define a simple evaluation function that counts the number of 1s in the individual\n",
    "def evalOneMax(individual):\n",
    "    \"\"\"Count the number of 1s in the individual (maximize this)\"\"\"\n",
    "    return sum(individual),  # Note the comma - this creates a tuple\n",
    "\n",
    "# Register the evaluation function in the toolbox\n",
    "toolbox.register(\"evaluate\", evalOneMax)\n",
    "\n",
    "# Test the evaluation function\n",
    "test_individual = creator.Individual([1, 0, 1, 1, 0, 0, 1, 1, 1, 0])\n",
    "fitness = evalOneMax(test_individual)\n",
    "print(f\"Individual: {test_individual}\")\n",
    "print(f\"Fitness: {fitness}\")"
   ]
  },
  {
   "cell_type": "markdown",
   "metadata": {},
   "source": [
    "## Register Genetic Operators"
   ]
  },
  {
   "cell_type": "code",
   "execution_count": null,
   "metadata": {},
   "outputs": [],
   "source": [
    "# Register genetic operators in the toolbox\n",
    "\n",
    "# Crossover operator - two-point crossover\n",
    "toolbox.register(\"mate\", tools.cxTwoPoint)\n",
    "\n",
    "# Mutation operator - flip bits with a 10% probability for each bit\n",
    "toolbox.register(\"mutate\", tools.mutFlipBit, indpb=0.1)\n",
    "\n",
    "# Selection operator - tournament selection with tournament size 3\n",
    "toolbox.register(\"select\", tools.selTournament, tournsize=3)\n",
    "\n",
    "# Let's test these operators\n",
    "\n",
    "# Create two test individuals\n",
    "ind1 = creator.Individual([1, 1, 0, 0, 1, 1, 0, 0, 1, 1])\n",
    "ind2 = creator.Individual([0, 0, 1, 1, 0, 0, 1, 1, 0, 0])\n",
    "\n",
    "print(\"Before crossover:\")\n",
    "print(f\"Individual 1: {ind1}\")\n",
    "print(f\"Individual 2: {ind2}\")\n",
    "\n",
    "# Apply crossover\n",
    "child1, child2 = toolbox.mate(ind1, ind2)\n",
    "print(\"\\nAfter crossover:\")\n",
    "print(f\"Child 1: {child1}\")\n",
    "print(f\"Child 2: {child2}\")\n",
    "\n",
    "# Apply mutation to child1\n",
    "toolbox.mutate(child1)\n",
    "print(\"\\nAfter mutation:\")\n",
    "print(f\"Mutated Child 1: {child1}\")"
   ]
  },
  {
   "cell_type": "markdown",
   "metadata": {},
   "source": [
    "## Create Initial Population"
   ]
  },
  {
   "cell_type": "code",
   "execution_count": null,
   "metadata": {},
   "outputs": [],
   "source": [
    "# Create initial population\n",
    "population = toolbox.population(n=50)\n",
    "\n",
    "# Evaluate the entire population\n",
    "fitnesses = list(map(toolbox.evaluate, population))\n",
    "for ind, fit in zip(population, fitnesses):\n",
    "    ind.fitness.values = fit\n",
    "\n",
    "# Get some statistics about the initial population\n",
    "fits = [ind.fitness.values[0] for ind in population]\n",
    "\n",
    "print(f\"Initial population size: {len(population)}\")\n",
    "print(f\"Min fitness: {min(fits)}\")\n",
    "print(f\"Max fitness: {max(fits)}\")\n",
    "print(f\"Average fitness: {sum(fits) / len(fits)}\")"
   ]
  },
  {
   "cell_type": "markdown",
   "metadata": {},
   "source": [
    "## Run the Algorithm with Statistics"
   ]
  },
  {
   "cell_type": "code",
   "execution_count": null,
   "metadata": {},
   "outputs": [],
   "source": [
    "# Set up statistics to track\n",
    "stats = tools.Statistics(lambda ind: ind.fitness.values)\n",
    "stats.register(\"avg\", np.mean)\n",
    "stats.register(\"min\", min)\n",
    "stats.register(\"max\", max)\n",
    "stats.register(\"std\", np.std)\n",
    "\n",
    "# Parameters\n",
    "N_GENS = 40  # Number of generations\n",
    "P_CROSS = 0.5  # Crossover probability\n",
    "P_MUTATE = 0.2  # Mutation probability\n",
    "\n",
    "# Lists to store statistics\n",
    "gen_numbers = []\n",
    "max_fitness = []\n",
    "avg_fitness = []\n",
    "\n",
    "# Run the algorithm manually so we can track progress\n",
    "for gen in range(N_GENS):\n",
    "    # Select the next generation individuals\n",
    "    offspring = toolbox.select(population, len(population))\n",
    "    \n",
    "    # Clone the selected individuals\n",
    "    offspring = list(map(toolbox.clone, offspring))\n",
    "    \n",
    "    # Apply crossover and mutation\n",
    "    for i in range(1, len(offspring), 2):\n",
    "        if random.random() < P_CROSS:\n",
    "            offspring[i-1], offspring[i] = toolbox.mate(offspring[i-1], offspring[i])\n",
    "            del offspring[i-1].fitness.values\n",
    "            del offspring[i].fitness.values\n",
    "    \n",
    "    for i in range(len(offspring)):\n",
    "        if random.random() < P_MUTATE:\n",
    "            offspring[i], = toolbox.mutate(offspring[i])\n",
    "            del offspring[i].fitness.values\n",
    "    \n",
    "    # Evaluate the individuals with an invalid fitness\n",
    "    invalid_ind = [ind for ind in offspring if not ind.fitness.valid]\n",
    "    fitnesses = map(toolbox.evaluate, invalid_ind)\n",
    "    for ind, fit in zip(invalid_ind, fitnesses):\n",
    "        ind.fitness.values = fit\n",
    "    \n",
    "    # Replace the old population by the offspring\n",
    "    population[:] = offspring\n",
    "    \n",
    "    # Gather statistics\n",
    "    fits = [ind.fitness.values[0] for ind in population]\n",
    "    gen_numbers.append(gen)\n",
    "    max_fitness.append(max(fits))\n",
    "    avg_fitness.append(sum(fits) / len(fits))\n",
    "    \n",
    "    # Print statistics\n",
    "    if gen % 5 == 0:\n",
    "        print(f\"Generation {gen}: Max = {max(fits)}, Avg = {sum(fits)/len(fits)}\")\n",
    "\n",
    "# Print final best solution\n",
    "best_ind = tools.selBest(population, 1)[0]\n",
    "print(\"\\nBest individual:\")\n",
    "print(f\"Genes: {best_ind}\")\n",
    "print(f\"Fitness: {best_ind.fitness.values[0]}\")"
   ]
  },
  {
   "cell_type": "markdown",
   "metadata": {},
   "source": [
    "## Visualize the Evolution Progress"
   ]
  },
  {
   "cell_type": "code",
   "execution_count": null,
   "metadata": {},
   "outputs": [],
   "source": [
    "# Plot the evolution progress\n",
    "plt.figure(figsize=(10, 6))\n",
    "plt.plot(gen_numbers, max_fitness, 'r-', label='Max Fitness')\n",
    "plt.plot(gen_numbers, avg_fitness, 'b-', label='Average Fitness')\n",
    "plt.xlabel('Generation')\n",
    "plt.ylabel('Fitness')\n",
    "plt.title('Evolution Progress')\n",
    "plt.legend()\n",
    "plt.grid(True)\n",
    "plt.show()"
   ]
  },
  {
   "cell_type": "markdown",
   "metadata": {},
   "source": [
    "## Using Built-in Algorithms"
   ]
  },
  {
   "cell_type": "code",
   "execution_count": null,
   "metadata": {},
   "outputs": [],
   "source": [
    "# Instead of manually implementing the evolutionary loop,\n",
    "# we can use DEAP's built-in algorithms\n",
    "\n",
    "# Reset the population\n",
    "population = toolbox.population(n=50)\n",
    "\n",
    "# Use eaSimple algorithm with the same parameters\n",
    "result, logbook = algorithms.eaSimple(population, toolbox, \n",
    "                                     cxpb=P_CROSS, mutpb=P_MUTATE, \n",
    "                                     ngen=N_GENS, stats=stats, \n",
    "                                     verbose=True)\n",
    "\n",
    "# Plot statistics from the logbook\n",
    "gen = logbook.select(\"gen\")\n",
    "fit_max = logbook.select(\"max\")\n",
    "fit_avg = logbook.select(\"avg\")\n",
    "\n",
    "plt.figure(figsize=(10, 6))\n",
    "plt.plot(gen, fit_max, 'r-', label='Max Fitness')\n",
    "plt.plot(gen, fit_avg, 'b-', label='Average Fitness')\n",
    "plt.xlabel('Generation')\n",
    "plt.ylabel('Fitness')\n",
    "plt.title('Evolution Progress (using eaSimple)')\n",
    "plt.legend()\n",
    "plt.grid(True)\n",
    "plt.show()\n",
    "\n",
    "# Print final best solution\n",
    "best_ind = tools.selBest(result, 1)[0]\n",
    "print(\"\\nBest individual from eaSimple:\")\n",
    "print(f\"Genes: {best_ind}\")\n",
    "print(f\"Fitness: {best_ind.fitness.values[0]}\")"
   ]
  }
 ],
 "metadata": {
  "kernelspec": {
   "display_name": "iat460",
   "language": "python",
   "name": "python3"
  },
  "language_info": {
   "codemirror_mode": {
    "name": "ipython",
    "version": 3
   },
   "file_extension": ".py",
   "mimetype": "text/x-python",
   "name": "python",
   "nbconvert_exporter": "python",
   "pygments_lexer": "ipython3",
   "version": "3.9.21"
  }
 },
 "nbformat": 4,
 "nbformat_minor": 2
}
