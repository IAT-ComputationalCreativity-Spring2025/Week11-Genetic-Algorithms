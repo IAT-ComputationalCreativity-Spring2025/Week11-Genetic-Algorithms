{
 "cells": [
  {
   "cell_type": "markdown",
   "metadata": {},
   "source": [
    "# Evolving images with human evaluation"
   ]
  },
  {
   "cell_type": "markdown",
   "metadata": {},
   "source": [
    "## Import the necessary libraries"
   ]
  },
  {
   "cell_type": "code",
   "execution_count": 1,
   "metadata": {},
   "outputs": [
    {
     "name": "stdout",
     "output_type": "stream",
     "text": [
      "Requirement already satisfied: deap in c:\\users\\griff\\miniconda3\\envs\\iat460\\lib\\site-packages (1.4.2)\n",
      "Requirement already satisfied: numpy in c:\\users\\griff\\miniconda3\\envs\\iat460\\lib\\site-packages (1.26.4)\n",
      "Requirement already satisfied: matplotlib in c:\\users\\griff\\miniconda3\\envs\\iat460\\lib\\site-packages (3.9.4)\n",
      "Requirement already satisfied: ipywidgets in c:\\users\\griff\\miniconda3\\envs\\iat460\\lib\\site-packages (8.1.5)\n",
      "Requirement already satisfied: contourpy>=1.0.1 in c:\\users\\griff\\miniconda3\\envs\\iat460\\lib\\site-packages (from matplotlib) (1.3.0)\n",
      "Requirement already satisfied: cycler>=0.10 in c:\\users\\griff\\miniconda3\\envs\\iat460\\lib\\site-packages (from matplotlib) (0.12.1)\n",
      "Requirement already satisfied: fonttools>=4.22.0 in c:\\users\\griff\\miniconda3\\envs\\iat460\\lib\\site-packages (from matplotlib) (4.55.3)\n",
      "Requirement already satisfied: kiwisolver>=1.3.1 in c:\\users\\griff\\miniconda3\\envs\\iat460\\lib\\site-packages (from matplotlib) (1.4.7)\n",
      "Requirement already satisfied: packaging>=20.0 in c:\\users\\griff\\miniconda3\\envs\\iat460\\lib\\site-packages (from matplotlib) (24.2)\n",
      "Requirement already satisfied: pillow>=8 in c:\\users\\griff\\miniconda3\\envs\\iat460\\lib\\site-packages (from matplotlib) (11.1.0)\n",
      "Requirement already satisfied: pyparsing>=2.3.1 in c:\\users\\griff\\miniconda3\\envs\\iat460\\lib\\site-packages (from matplotlib) (3.2.1)\n",
      "Requirement already satisfied: python-dateutil>=2.7 in c:\\users\\griff\\miniconda3\\envs\\iat460\\lib\\site-packages (from matplotlib) (2.9.0.post0)\n",
      "Requirement already satisfied: importlib-resources>=3.2.0 in c:\\users\\griff\\miniconda3\\envs\\iat460\\lib\\site-packages (from matplotlib) (6.5.2)\n",
      "Requirement already satisfied: comm>=0.1.3 in c:\\users\\griff\\miniconda3\\envs\\iat460\\lib\\site-packages (from ipywidgets) (0.2.2)\n",
      "Requirement already satisfied: ipython>=6.1.0 in c:\\users\\griff\\miniconda3\\envs\\iat460\\lib\\site-packages (from ipywidgets) (8.18.1)\n",
      "Requirement already satisfied: traitlets>=4.3.1 in c:\\users\\griff\\miniconda3\\envs\\iat460\\lib\\site-packages (from ipywidgets) (5.14.3)\n",
      "Requirement already satisfied: widgetsnbextension~=4.0.12 in c:\\users\\griff\\miniconda3\\envs\\iat460\\lib\\site-packages (from ipywidgets) (4.0.13)\n",
      "Requirement already satisfied: jupyterlab-widgets~=3.0.12 in c:\\users\\griff\\miniconda3\\envs\\iat460\\lib\\site-packages (from ipywidgets) (3.0.13)\n",
      "Requirement already satisfied: zipp>=3.1.0 in c:\\users\\griff\\miniconda3\\envs\\iat460\\lib\\site-packages (from importlib-resources>=3.2.0->matplotlib) (3.21.0)\n",
      "Requirement already satisfied: decorator in c:\\users\\griff\\miniconda3\\envs\\iat460\\lib\\site-packages (from ipython>=6.1.0->ipywidgets) (5.1.1)\n",
      "Requirement already satisfied: jedi>=0.16 in c:\\users\\griff\\miniconda3\\envs\\iat460\\lib\\site-packages (from ipython>=6.1.0->ipywidgets) (0.19.2)\n",
      "Requirement already satisfied: matplotlib-inline in c:\\users\\griff\\miniconda3\\envs\\iat460\\lib\\site-packages (from ipython>=6.1.0->ipywidgets) (0.1.7)\n",
      "Requirement already satisfied: prompt-toolkit<3.1.0,>=3.0.41 in c:\\users\\griff\\miniconda3\\envs\\iat460\\lib\\site-packages (from ipython>=6.1.0->ipywidgets) (3.0.48)\n",
      "Requirement already satisfied: pygments>=2.4.0 in c:\\users\\griff\\miniconda3\\envs\\iat460\\lib\\site-packages (from ipython>=6.1.0->ipywidgets) (2.18.0)\n",
      "Requirement already satisfied: stack-data in c:\\users\\griff\\miniconda3\\envs\\iat460\\lib\\site-packages (from ipython>=6.1.0->ipywidgets) (0.6.3)\n",
      "Requirement already satisfied: typing-extensions in c:\\users\\griff\\miniconda3\\envs\\iat460\\lib\\site-packages (from ipython>=6.1.0->ipywidgets) (4.12.2)\n",
      "Requirement already satisfied: exceptiongroup in c:\\users\\griff\\miniconda3\\envs\\iat460\\lib\\site-packages (from ipython>=6.1.0->ipywidgets) (1.2.2)\n",
      "Requirement already satisfied: colorama in c:\\users\\griff\\miniconda3\\envs\\iat460\\lib\\site-packages (from ipython>=6.1.0->ipywidgets) (0.4.6)\n",
      "Requirement already satisfied: six>=1.5 in c:\\users\\griff\\miniconda3\\envs\\iat460\\lib\\site-packages (from python-dateutil>=2.7->matplotlib) (1.17.0)\n",
      "Requirement already satisfied: parso<0.9.0,>=0.8.4 in c:\\users\\griff\\miniconda3\\envs\\iat460\\lib\\site-packages (from jedi>=0.16->ipython>=6.1.0->ipywidgets) (0.8.4)\n",
      "Requirement already satisfied: wcwidth in c:\\users\\griff\\miniconda3\\envs\\iat460\\lib\\site-packages (from prompt-toolkit<3.1.0,>=3.0.41->ipython>=6.1.0->ipywidgets) (0.2.13)\n",
      "Requirement already satisfied: executing>=1.2.0 in c:\\users\\griff\\miniconda3\\envs\\iat460\\lib\\site-packages (from stack-data->ipython>=6.1.0->ipywidgets) (2.1.0)\n",
      "Requirement already satisfied: asttokens>=2.1.0 in c:\\users\\griff\\miniconda3\\envs\\iat460\\lib\\site-packages (from stack-data->ipython>=6.1.0->ipywidgets) (3.0.0)\n",
      "Requirement already satisfied: pure_eval in c:\\users\\griff\\miniconda3\\envs\\iat460\\lib\\site-packages (from stack-data->ipython>=6.1.0->ipywidgets) (0.2.3)\n"
     ]
    }
   ],
   "source": [
    "! pip install deap numpy matplotlib ipywidgets"
   ]
  },
  {
   "cell_type": "code",
   "execution_count": 2,
   "metadata": {},
   "outputs": [],
   "source": [
    "import numpy as np\n",
    "import matplotlib.pyplot as plt\n",
    "from deap import base, creator, tools, algorithms\n",
    "import random\n",
    "from IPython.display import clear_output, display\n",
    "import ipywidgets as widgets"
   ]
  },
  {
   "cell_type": "markdown",
   "metadata": {},
   "source": [
    "## Define the function to create abstract art"
   ]
  },
  {
   "cell_type": "code",
   "execution_count": 3,
   "metadata": {},
   "outputs": [],
   "source": [
    "def create_abstract_art(genome, canvas_size=400):\n",
    "    \"\"\"\n",
    "    Creates abstract art from a genome of parameters.\n",
    "    \n",
    "    Each shape is defined by 7 parameters:\n",
    "    - x, y: position\n",
    "    - width, height: dimensions\n",
    "    - r, g, b: color\n",
    "    \"\"\"\n",
    "    # Initialize blank white canvas\n",
    "    canvas = np.ones((canvas_size, canvas_size, 3))\n",
    "    \n",
    "    # Genome structure:\n",
    "    # Every 7 values represent a shape: [x, y, width, height, r, g, b]\n",
    "    num_shapes = len(genome) // 7\n",
    "    \n",
    "    for i in range(num_shapes):\n",
    "        # Extract shape parameters\n",
    "        x = int(genome[i*7] * canvas_size)\n",
    "        y = int(genome[i*7+1] * canvas_size)\n",
    "        width = int(max(5, genome[i*7+2] * canvas_size/2))\n",
    "        height = int(max(5, genome[i*7+3] * canvas_size/2))\n",
    "        r, g, b = genome[i*7+4], genome[i*7+5], genome[i*7+6]\n",
    "        \n",
    "        # Ensure shape is at least partially in canvas\n",
    "        x = min(max(0, x), canvas_size-1)\n",
    "        y = min(max(0, y), canvas_size-1)\n",
    "        \n",
    "        # Draw rectangle\n",
    "        x_end = min(x + width, canvas_size)\n",
    "        y_end = min(y + height, canvas_size)\n",
    "        \n",
    "        canvas[y:y_end, x:x_end] = [r, g, b]\n",
    "    \n",
    "    return canvas"
   ]
  },
  {
   "cell_type": "markdown",
   "metadata": {},
   "source": [
    "## Set up the DEAP framework for genetic algorithm"
   ]
  },
  {
   "cell_type": "code",
   "execution_count": 4,
   "metadata": {},
   "outputs": [],
   "source": [
    "# Set up the genetic algorithm with DEAP\n",
    "# If creator was already created, we need to clear it to avoid errors\n",
    "if 'FitnessMax' in dir(creator):\n",
    "    del creator.FitnessMax\n",
    "    del creator.Individual\n",
    "\n",
    "# Setup for genetic algorithm\n",
    "creator.create(\"FitnessMax\", base.Fitness, weights=(1.0,))\n",
    "creator.create(\"Individual\", list, fitness=creator.FitnessMax)\n",
    "\n",
    "toolbox = base.Toolbox()\n",
    "\n",
    "# Define genome: 10 shapes, each with 7 parameters\n",
    "GENOME_LENGTH = 10 * 7  # 10 shapes with 7 parameters each\n",
    "\n",
    "# Register gene, individual, and population creation\n",
    "toolbox.register(\"attr_float\", random.random)\n",
    "toolbox.register(\"individual\", tools.initRepeat, creator.Individual, toolbox.attr_float, GENOME_LENGTH)\n",
    "toolbox.register(\"population\", tools.initRepeat, list, toolbox.individual)\n",
    "\n",
    "# Crossover and mutation\n",
    "toolbox.register(\"mate\", tools.cxBlend, alpha=0.5)\n",
    "toolbox.register(\"mutate\", tools.mutGaussian, mu=0, sigma=0.2, indpb=0.2)\n",
    "toolbox.register(\"select\", tools.selTournament, tournsize=3)"
   ]
  },
  {
   "cell_type": "markdown",
   "metadata": {},
   "source": [
    "## Create a function to display a grid of artworks with rating sliders"
   ]
  },
  {
   "cell_type": "code",
   "execution_count": 5,
   "metadata": {},
   "outputs": [],
   "source": [
    "def display_population(population, generation):\n",
    "    \"\"\"\n",
    "    Displays a grid of artworks from the population with sliders for rating.\n",
    "    Returns the widgets for later access to their values.\n",
    "    \"\"\"\n",
    "    pop_size = len(population)\n",
    "    cols = min(4, pop_size)\n",
    "    rows = (pop_size + cols - 1) // cols  # Ceiling division\n",
    "    \n",
    "    fig, axes = plt.subplots(rows, cols, figsize=(cols*4, rows*4))\n",
    "    if rows == 1 and cols == 1:\n",
    "        axes = np.array([[axes]])\n",
    "    elif rows == 1 or cols == 1:\n",
    "        axes = axes.reshape(rows, cols)\n",
    "    \n",
    "    sliders = []\n",
    "    \n",
    "    # Flatten axes if needed\n",
    "    ax_flat = axes.flatten()\n",
    "    \n",
    "    for i, ind in enumerate(population):\n",
    "        if i < len(ax_flat):\n",
    "            # Generate artwork\n",
    "            art = create_abstract_art(ind)\n",
    "            \n",
    "            # Display\n",
    "            ax_flat[i].imshow(art)\n",
    "            ax_flat[i].set_title(f\"Artwork {i+1}\")\n",
    "            ax_flat[i].axis('off')\n",
    "            \n",
    "            # Create slider for this artwork\n",
    "            slider = widgets.FloatSlider(\n",
    "                value=5.0,\n",
    "                min=0.0,\n",
    "                max=10.0,\n",
    "                step=0.5,\n",
    "                description=f'Rate {i+1}:',\n",
    "                disabled=False,\n",
    "                continuous_update=False,\n",
    "                orientation='horizontal',\n",
    "                readout=True,\n",
    "                readout_format='.1f',\n",
    "            )\n",
    "            sliders.append(slider)\n",
    "    \n",
    "    # Hide any unused axes\n",
    "    for j in range(len(population), len(ax_flat)):\n",
    "        ax_flat[j].axis('off')\n",
    "    \n",
    "    plt.tight_layout()\n",
    "    plt.suptitle(f\"Generation {generation}\", fontsize=16)\n",
    "    plt.subplots_adjust(top=0.9)\n",
    "    plt.show()\n",
    "    \n",
    "    # Display all sliders\n",
    "    for slider in sliders:\n",
    "        display(slider)\n",
    "    \n",
    "    return sliders"
   ]
  },
  {
   "cell_type": "markdown",
   "metadata": {},
   "source": [
    "## Create a function to collect ratings from sliders"
   ]
  },
  {
   "cell_type": "code",
   "execution_count": 6,
   "metadata": {},
   "outputs": [],
   "source": [
    "def collect_ratings(population, sliders):\n",
    "    \"\"\"\n",
    "    Collects ratings from sliders and assigns them as fitness values.\n",
    "    \"\"\"\n",
    "    for ind, slider in zip(population, sliders):\n",
    "        ind.fitness.values = (slider.value,)\n",
    "    \n",
    "    return population"
   ]
  },
  {
   "cell_type": "markdown",
   "metadata": {},
   "source": [
    "## Define the main interactive evolution function"
   ]
  },
  {
   "cell_type": "code",
   "execution_count": 7,
   "metadata": {},
   "outputs": [],
   "source": [
    "def run_interactive_evolution(pop_size=8, generations=3):\n",
    "    \"\"\"\n",
    "    Runs the interactive evolution process for the given number of generations.\n",
    "    \"\"\"\n",
    "    # Initialize population\n",
    "    population = toolbox.population(n=pop_size)\n",
    "    \n",
    "    for gen in range(generations):\n",
    "        print(f\"\\n--- Generation {gen+1} ---\")\n",
    "        \n",
    "        # Display artworks and get rating widgets\n",
    "        sliders = display_population(population, gen+1)\n",
    "        \n",
    "        # Wait for user to rate artworks\n",
    "        rate_button = widgets.Button(description=\"Submit Ratings\")\n",
    "        display(rate_button)\n",
    "        \n",
    "        def on_button_clicked(b):\n",
    "            b.disabled = True\n",
    "            b.description = \"Processing...\"\n",
    "            # We'll let the code continue after the button is clicked\n",
    "        \n",
    "        rate_button.on_click(on_button_clicked)\n",
    "        \n",
    "        # This will pause execution until the button is clicked\n",
    "        # In a real notebook, we would need IPython's run_cell_magic to achieve this\n",
    "        # For demonstration, we're just showing the structure\n",
    "        print(\"After rating the artworks, click the Submit Ratings button.\")\n",
    "        # Waiting for button click...\n",
    "        \n",
    "        # Collect ratings and assign fitness\n",
    "        population = collect_ratings(population, sliders)\n",
    "        \n",
    "        # Select parents and create offspring\n",
    "        offspring = algorithms.varAnd(population, toolbox, cxpb=0.6, mutpb=0.3)\n",
    "        \n",
    "        # Replace population with offspring\n",
    "        population = offspring\n",
    "    \n",
    "    # Final evaluation\n",
    "    print(\"\\n--- Final Generation ---\")\n",
    "    sliders = display_population(population, generations+1)\n",
    "    \n",
    "    # Wait for final ratings\n",
    "    final_button = widgets.Button(description=\"Submit Final Ratings\")\n",
    "    display(final_button)\n",
    "    \n",
    "    def on_final_button_clicked(b):\n",
    "        b.disabled = True\n",
    "        b.description = \"Processing...\"\n",
    "    \n",
    "    final_button.on_click(on_final_button_clicked)\n",
    "    \n",
    "    print(\"Rate the final artworks and click Submit Final Ratings.\")\n",
    "    # Waiting for button click...\n",
    "    \n",
    "    # Collect final ratings\n",
    "    population = collect_ratings(population, sliders)\n",
    "    \n",
    "    # Display best individual\n",
    "    best_ind = tools.selBest(population, 1)[0]\n",
    "    best_art = create_abstract_art(best_ind)\n",
    "    \n",
    "    plt.figure(figsize=(8, 8))\n",
    "    plt.imshow(best_art)\n",
    "    plt.title(f\"Final Best Artwork (Rating: {best_ind.fitness.values[0]:.1f}/10)\")\n",
    "    plt.axis('off')\n",
    "    plt.show()\n",
    "    \n",
    "    return best_ind"
   ]
  },
  {
   "cell_type": "markdown",
   "metadata": {},
   "source": [
    "## Function to run the evolution non-interactively for testing"
   ]
  },
  {
   "cell_type": "code",
   "execution_count": 8,
   "metadata": {},
   "outputs": [],
   "source": [
    "def run_non_interactive_evolution(pop_size=8, generations=3):\n",
    "    \"\"\"\n",
    "    Runs evolution with random fitness values for testing purposes.\n",
    "    \"\"\"\n",
    "    population = toolbox.population(n=pop_size)\n",
    "    \n",
    "    for gen in range(generations):\n",
    "        print(f\"Generation {gen+1}\")\n",
    "        \n",
    "        # Assign random fitness values\n",
    "        for ind in population:\n",
    "            ind.fitness.values = (random.uniform(0, 10),)\n",
    "        \n",
    "        # Select and create new offspring\n",
    "        offspring = algorithms.varAnd(population, toolbox, cxpb=0.6, mutpb=0.3)\n",
    "        \n",
    "        # Replace population with offspring\n",
    "        population = offspring\n",
    "    \n",
    "    # Final random evaluation\n",
    "    for ind in population:\n",
    "        ind.fitness.values = (random.uniform(0, 10),)\n",
    "    \n",
    "    # Display the \"best\" individual\n",
    "    best_ind = tools.selBest(population, 1)[0]\n",
    "    best_art = create_abstract_art(best_ind)\n",
    "    \n",
    "    plt.figure(figsize=(8, 8))\n",
    "    plt.imshow(best_art)\n",
    "    plt.title(f\"Best Artwork (Random Rating: {best_ind.fitness.values[0]:.1f}/10)\")\n",
    "    plt.axis('off')\n",
    "    plt.show()\n",
    "    \n",
    "    return best_ind"
   ]
  },
  {
   "cell_type": "markdown",
   "metadata": {},
   "source": [
    "## Add a Shape-based art function as an alternative"
   ]
  },
  {
   "cell_type": "code",
   "execution_count": 9,
   "metadata": {},
   "outputs": [],
   "source": [
    "def create_shape_based_art(genome, canvas_size=400):\n",
    "    \"\"\"\n",
    "    Creates abstract art using various shapes (circles, rectangles, triangles).\n",
    "    \n",
    "    Each shape is defined by 9 parameters:\n",
    "    - shape_type (0-2): rectangle, circle, or triangle\n",
    "    - x, y: position\n",
    "    - size, aspect: dimensions\n",
    "    - r, g, b: color\n",
    "    - alpha: transparency\n",
    "    \"\"\"\n",
    "    # Initialize blank white canvas\n",
    "    canvas = np.ones((canvas_size, canvas_size, 3))\n",
    "    \n",
    "    # Genome structure:\n",
    "    # Every 9 values represent a shape: [type, x, y, size, aspect, r, g, b, alpha]\n",
    "    num_shapes = len(genome) // 9\n",
    "    \n",
    "    for i in range(num_shapes):\n",
    "        # Extract shape parameters\n",
    "        shape_type = int(genome[i*9] * 3)  # 0: rectangle, 1: circle, 2: triangle\n",
    "        x = int(genome[i*9+1] * canvas_size)\n",
    "        y = int(genome[i*9+2] * canvas_size)\n",
    "        size = int(max(5, genome[i*9+3] * canvas_size/2))\n",
    "        aspect = max(0.2, genome[i*9+4] * 2)  # 0.2 to 2\n",
    "        r, g, b = genome[i*9+5], genome[i*9+6], genome[i*9+7]\n",
    "        alpha = genome[i*9+8]  # Transparency\n",
    "        \n",
    "        # Create a shape mask\n",
    "        shape_mask = np.zeros((canvas_size, canvas_size))\n",
    "        \n",
    "        # Draw the appropriate shape\n",
    "        if shape_type == 0:  # Rectangle\n",
    "            width = size\n",
    "            height = int(size * aspect)\n",
    "            \n",
    "            x_end = min(x + width, canvas_size)\n",
    "            y_end = min(y + height, canvas_size)\n",
    "            \n",
    "            if x < canvas_size and y < canvas_size:\n",
    "                shape_mask[y:y_end, x:x_end] = 1\n",
    "                \n",
    "        elif shape_type == 1:  # Circle\n",
    "            radius = size // 2\n",
    "            y_grid, x_grid = np.ogrid[-y:canvas_size-y, -x:canvas_size-x]\n",
    "            mask = (x_grid*x_grid + y_grid*y_grid) <= (radius*radius)\n",
    "            shape_mask[mask] = 1\n",
    "            \n",
    "        elif shape_type == 2:  # Triangle\n",
    "            if x < canvas_size and y < canvas_size:\n",
    "                # Define three points for triangle\n",
    "                p1 = (x, y)\n",
    "                p2 = (x + size, y)\n",
    "                p3 = (x + size//2, y - int(size * aspect))\n",
    "                \n",
    "                # Create a mesh grid\n",
    "                xx, yy = np.meshgrid(range(canvas_size), range(canvas_size))\n",
    "                \n",
    "                # Barycentric coordinate method to check if point is in triangle\n",
    "                def point_in_triangle(pt, v1, v2, v3):\n",
    "                    def sign(p1, p2, p3):\n",
    "                        return (p1[0] - p3[0]) * (p2[1] - p3[1]) - (p2[0] - p3[0]) * (p1[1] - p3[1])\n",
    "                    \n",
    "                    d1 = sign(pt, v1, v2)\n",
    "                    d2 = sign(pt, v2, v3)\n",
    "                    d3 = sign(pt, v3, v1)\n",
    "                    \n",
    "                    has_neg = (d1 < 0) or (d2 < 0) or (d3 < 0)\n",
    "                    has_pos = (d1 > 0) or (d2 > 0) or (d3 > 0)\n",
    "                    \n",
    "                    return not (has_neg and has_pos)\n",
    "                \n",
    "                # Apply the triangle mask\n",
    "                for i in range(canvas_size):\n",
    "                    for j in range(canvas_size):\n",
    "                        if point_in_triangle((j, i), p1, p2, p3):\n",
    "                            shape_mask[i, j] = 1\n",
    "        \n",
    "        # Apply the shape to the canvas with transparency\n",
    "        for c in range(3):\n",
    "            canvas[:,:,c] = canvas[:,:,c] * (1 - shape_mask * alpha) + shape_mask * alpha * ([r, g, b][c])\n",
    "    \n",
    "    return canvas"
   ]
  },
  {
   "cell_type": "markdown",
   "metadata": {},
   "source": [
    "## Create a demonstration function"
   ]
  },
  {
   "cell_type": "code",
   "execution_count": 10,
   "metadata": {},
   "outputs": [],
   "source": [
    "def demonstrate_art_evolution():\n",
    "    \"\"\"\n",
    "    Demonstrates the creation of different art styles from random genomes.\n",
    "    \"\"\"\n",
    "    # Create 4 random genomes\n",
    "    rectangle_art_genome = [random.random() for _ in range(10 * 7)]\n",
    "    shape_art_genome = [random.random() for _ in range(10 * 9)]\n",
    "    \n",
    "    # Create and display the art\n",
    "    fig, axes = plt.subplots(1, 2, figsize=(12, 6))\n",
    "    \n",
    "    # Rectangle art\n",
    "    rect_art = create_abstract_art(rectangle_art_genome)\n",
    "    axes[0].imshow(rect_art)\n",
    "    axes[0].set_title(\"Rectangle-based Art\")\n",
    "    axes[0].axis('off')\n",
    "    \n",
    "    # Shape art\n",
    "    shape_art = create_shape_based_art(shape_art_genome)\n",
    "    axes[1].imshow(shape_art)\n",
    "    axes[1].set_title(\"Multi-shape Art\")\n",
    "    axes[1].axis('off')\n",
    "    \n",
    "    plt.tight_layout()\n",
    "    plt.show()\n",
    "    \n",
    "    print(\"These are examples of randomly generated artworks.\")\n",
    "    print(\"The interactive evolution process allows users to guide the algorithm\")\n",
    "    print(\"toward more aesthetically pleasing compositions through iterative selection.\")"
   ]
  },
  {
   "cell_type": "markdown",
   "metadata": {},
   "source": [
    "## Create a function for conducting a human-in-the-loop experiment"
   ]
  },
  {
   "cell_type": "code",
   "execution_count": 11,
   "metadata": {},
   "outputs": [],
   "source": [
    "def conduct_art_experiment():\n",
    "    \"\"\"\n",
    "    Function for students to run a complete art evolution experiment.\n",
    "    \"\"\"\n",
    "    print(\"Welcome to the Interactive Art Evolution Experiment!\")\n",
    "    print(\"In this experiment, you'll guide the evolution of abstract artworks.\")\n",
    "    print(\"For each generation, you'll rate artworks from 0-10 based on your aesthetic preference.\")\n",
    "    \n",
    "    # Create widgets for configuration\n",
    "    pop_size_widget = widgets.IntSlider(\n",
    "        value=8,\n",
    "        min=4,\n",
    "        max=16,\n",
    "        step=2,\n",
    "        description='Population:',\n",
    "        disabled=False,\n",
    "        continuous_update=False\n",
    "    )\n",
    "    display(pop_size_widget)\n",
    "    \n",
    "    gen_widget = widgets.IntSlider(\n",
    "        value=3,\n",
    "        min=2,\n",
    "        max=6,\n",
    "        step=1,\n",
    "        description='Generations:',\n",
    "        disabled=False,\n",
    "        continuous_update=False\n",
    "    )\n",
    "    display(gen_widget)\n",
    "    \n",
    "    art_type_widget = widgets.Dropdown(\n",
    "        options=[('Rectangle-based', 'rectangle'), ('Shape-based', 'shape')],\n",
    "        value='rectangle',\n",
    "        description='Art Style:',\n",
    "        disabled=False,\n",
    "    )\n",
    "    display(art_type_widget)\n",
    "    \n",
    "    start_button = widgets.Button(description=\"Start Evolution\")\n",
    "    display(start_button)\n",
    "    \n",
    "    def on_start_clicked(b):\n",
    "        b.disabled = True\n",
    "        b.description = \"Running...\"\n",
    "        \n",
    "        pop_size = pop_size_widget.value\n",
    "        generations = gen_widget.value\n",
    "        art_type = art_type_widget.value\n",
    "        \n",
    "        print(f\"\\nStarting evolution with:\")\n",
    "        print(f\"- Population size: {pop_size}\")\n",
    "        print(f\"- Generations: {generations}\")\n",
    "        print(f\"- Art style: {art_type}\")\n",
    "        \n",
    "        if art_type == 'shape':\n",
    "            # We would implement shape-based evolution here\n",
    "            print(\"Shape-based evolution selected (would be implemented in a full notebook)\")\n",
    "        else:\n",
    "            # We would run the rectangle-based evolution here\n",
    "            print(\"Rectangle-based evolution selected\")\n",
    "        \n",
    "        # This would normally call run_interactive_evolution\n",
    "        # but for demonstration we'll show mock output\n",
    "        print(\"\\nMock evolution process:\")\n",
    "        for i in range(generations):\n",
    "            print(f\"Generation {i+1} completed\")\n",
    "        \n",
    "        print(\"\\nEvolution complete! Final best artwork would be displayed here.\")\n",
    "    \n",
    "    start_button.on_click(on_start_clicked)"
   ]
  },
  {
   "cell_type": "markdown",
   "metadata": {},
   "source": [
    "## Run demonstration"
   ]
  },
  {
   "cell_type": "code",
   "execution_count": 14,
   "metadata": {},
   "outputs": [
    {
     "data": {
      "image/png": "[encoded data removed]",
      "text/plain": [
       "<Figure size 1200x600 with 2 Axes>"
      ]
     },
     "metadata": {},
     "output_type": "display_data"
    },
    {
     "name": "stdout",
     "output_type": "stream",
     "text": [
      "These are examples of randomly generated artworks.\n",
      "The interactive evolution process allows users to guide the algorithm\n",
      "toward more aesthetically pleasing compositions through iterative selection.\n",
      "Welcome to the Interactive Art Evolution Experiment!\n",
      "In this experiment, you'll guide the evolution of abstract artworks.\n",
      "For each generation, you'll rate artworks from 0-10 based on your aesthetic preference.\n"
     ]
    },
    {
     "data": {
      "application/vnd.jupyter.widget-view+json": {
       "model_id": "23e7a6981bf747f2b77c0291d2d962f9",
       "version_major": 2,
       "version_minor": 0
      },
      "text/plain": [
       "IntSlider(value=8, continuous_update=False, description='Population:', max=16, min=4, step=2)"
      ]
     },
     "metadata": {},
     "output_type": "display_data"
    },
    {
     "data": {
      "application/vnd.jupyter.widget-view+json": {
       "model_id": "8d1073a899204d518db843f09a795718",
       "version_major": 2,
       "version_minor": 0
      },
      "text/plain": [
       "IntSlider(value=3, continuous_update=False, description='Generations:', max=6, min=2)"
      ]
     },
     "metadata": {},
     "output_type": "display_data"
    },
    {
     "data": {
      "application/vnd.jupyter.widget-view+json": {
       "model_id": "6bd8bd7e0be74fd9beb7a70013e0c086",
       "version_major": 2,
       "version_minor": 0
      },
      "text/plain": [
       "Dropdown(description='Art Style:', options=(('Rectangle-based', 'rectangle'), ('Shape-based', 'shape')), value…"
      ]
     },
     "metadata": {},
     "output_type": "display_data"
    },
    {
     "data": {
      "application/vnd.jupyter.widget-view+json": {
       "model_id": "702331bb475444758041c9138cc3d9a1",
       "version_major": 2,
       "version_minor": 0
      },
      "text/plain": [
       "Button(description='Start Evolution', style=ButtonStyle())"
      ]
     },
     "metadata": {},
     "output_type": "display_data"
    },
    {
     "name": "stdout",
     "output_type": "stream",
     "text": [
      "\n",
      "To run the full interactive evolution, use:\n",
      "best_individual = run_interactive_evolution(pop_size=8, generations=3)\n",
      "\n",
      "Note: The interactive version requires user input at each generation.\n"
     ]
    }
   ],
   "source": [
    "# Demonstrate the different art styles\n",
    "demonstrate_art_evolution()\n",
    "\n",
    "# Uncomment to run the non-interactive version for testing\n",
    "# best_individual = run_non_interactive_evolution(pop_size=8, generations=3)\n",
    "\n",
    "# Uncomment to run the guided experiment interface\n",
    "conduct_art_experiment()\n",
    "\n",
    "print(\"\\nTo run the full interactive evolution, use:\")\n",
    "print(\"best_individual = run_interactive_evolution(pop_size=8, generations=3)\")\n",
    "print(\"\\nNote: The interactive version requires user input at each generation.\")"
   ]
  }
 ],
 "metadata": {
  "kernelspec": {
   "display_name": "iat460",
   "language": "python",
   "name": "python3"
  },
  "language_info": {
   "codemirror_mode": {
    "name": "ipython",
    "version": 3
   },
   "file_extension": ".py",
   "mimetype": "text/x-python",
   "name": "python",
   "nbconvert_exporter": "python",
   "pygments_lexer": "ipython3",
   "version": "3.9.21"
  }
 },
 "nbformat": 4,
 "nbformat_minor": 2
}
